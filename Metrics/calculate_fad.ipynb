{
 "cells": [
  {
   "cell_type": "markdown",
   "metadata": {},
   "source": [
    "Note: Certain code files in tensorflow_models and frechet_audio_distance may need to be modified"
   ]
  },
  {
   "cell_type": "code",
   "execution_count": null,
   "metadata": {},
   "outputs": [],
   "source": [
    "%git clone https://github.com/google-research/google-research.git\n",
    "%cd google-research"
   ]
  },
  {
   "cell_type": "code",
   "execution_count": null,
   "metadata": {},
   "outputs": [],
   "source": [
    "%pip install apache-beam"
   ]
  },
  {
   "cell_type": "code",
   "execution_count": null,
   "metadata": {},
   "outputs": [],
   "source": [
    "%git clone https://github.com/tensorflow/models.git"
   ]
  },
  {
   "cell_type": "code",
   "execution_count": null,
   "metadata": {},
   "outputs": [],
   "source": [
    "%mkdir -p tensorflow_models\n",
    "%touch tensorflow_models/__init__.py\n",
    "%cp -r models/research/audioset tensorflow_models/audioset\n",
    "%touch tensorflow_models/audioset/__init__.py"
   ]
  },
  {
   "cell_type": "code",
   "execution_count": null,
   "metadata": {},
   "outputs": [],
   "source": [
    "%mkdir -p data\n",
    "%curl -o data/vggish_model.ckpt https://storage.googleapis.com/audioset/vggish_model.ckpt"
   ]
  },
  {
   "cell_type": "code",
   "execution_count": null,
   "metadata": {},
   "outputs": [],
   "source": [
    "%ls --color=never /Saved_Files/saved_generated_latent_wav_files/*  > /Metrics/generated_wav.cvs\n",
    "%ls --color=never /Saved_Files/saved_real_wav_files/*  > /Metrics/real_wav.cvs"
   ]
  },
  {
   "cell_type": "code",
   "execution_count": null,
   "metadata": {},
   "outputs": [],
   "source": [
    "%mkdir -p stats\n",
    "%python -m frechet_audio_distance.create_embeddings_main --input_files /Metrics/generated_wav.cvs --stats stats/test1_stats\n",
    "%python -m frechet_audio_distance.create_embeddings_main --input_files /Metrics/real_wav.cvs --stats stats/background_stats"
   ]
  },
  {
   "cell_type": "code",
   "execution_count": null,
   "metadata": {},
   "outputs": [],
   "source": [
    "%python -m frechet_audio_distance.compute_fad --background_stats stats/background_stats --test_stats stats/test1_stats"
   ]
  }
 ],
 "metadata": {
  "language_info": {
   "name": "python"
  },
  "orig_nbformat": 4
 },
 "nbformat": 4,
 "nbformat_minor": 2
}
